{
 "cells": [
  {
   "cell_type": "code",
   "execution_count": 8,
   "id": "a7b60068-bab4-40a3-8e69-57316ff7b458",
   "metadata": {},
   "outputs": [
    {
     "name": "stdout",
     "output_type": "stream",
     "text": [
      "success!\n",
      "                                                data\n",
      "0  Both humans and cats have identical regions in...\n",
      "1  Cat families usually play best in even numbers...\n",
      "2        Cats can jump up to six times their length.\n",
      "3       A cats field of vision is about 185 degrees.\n",
      "4  Tabby cats are thought to get their name from ...\n",
      "5  Cheetahs communicate by purring and meowing li...\n",
      "6  Cats have individual preferences for scratchin...\n",
      "7  In ancient Egypt, when a family cat died, all ...\n",
      "8  When well treated, a cat can live twenty or mo...\n",
      "9  Mother cats teach their kittens to use the lit...\n"
     ]
    }
   ],
   "source": [
    "import pandas as pd\n",
    "import requests\n",
    "\n",
    "url = \"https://meowfacts.herokuapp.com/?count=10\"\n",
    "response = requests.get(url)\n",
    "\n",
    "# Check if the request was successful\n",
    "if response.status_code == 200:\n",
    "    data = response.json()\n",
    "    print('success!')\n",
    "else:\n",
    "    print(f\"Error: {response.status_code}\")\n",
    "\n",
    "df = pd.DataFrame(data)\n",
    "print(df)"
   ]
  },
  {
   "cell_type": "code",
   "execution_count": 11,
   "id": "a6bbac16-f687-4659-8574-26dd2fef6c66",
   "metadata": {},
   "outputs": [
    {
     "name": "stdout",
     "output_type": "stream",
     "text": [
      "<function crypto_prices_df at 0x0000024EB1D45620>\n"
     ]
    }
   ],
   "source": [
    "import requests\n",
    "import pandas as pd\n",
    "\n",
    "def crypto_prices_df(api_url):\n",
    "    # Your code here\n",
    "\n",
    "    api_url = \"https://pokeapi.co/api/v2\"\n",
    "    response = requests.get(url)\n",
    "    \n",
    "    # Check if the request was successful\n",
    "    if response.status_code == 200:\n",
    "        data = response.json()\n",
    "        print('success!')\n",
    "    else:\n",
    "        print(f\"Error: {response.status_code}\")\n",
    "    \n",
    "    crypto_prices_df = pd.DataFrame(data)\n",
    "    \n",
    "#Testing mechanisms, do not modify! \n",
    "# crypto_prices_df = get_crypto_prices(api_url)\n",
    "#print(crypto_prices_df)\n",
    "#print(get_crypto_prices)\n",
    "print(crypto_prices_df)\n"
   ]
  },
  {
   "cell_type": "code",
   "execution_count": 12,
   "id": "7b8bfeed-e653-4220-af2a-f08abb2b06e6",
   "metadata": {},
   "outputs": [
    {
     "name": "stdout",
     "output_type": "stream",
     "text": [
      "Success!\n",
      "          gecko_says\n",
      "0  (V3) To the Moon!\n"
     ]
    }
   ],
   "source": [
    "import requests\n",
    "import pandas as pd\n",
    "\n",
    "def crypto_prices_df(api_url):\n",
    "    response = requests.get(api_url)\n",
    "    \n",
    "    # Check if the request was successful\n",
    "    if response.status_code == 200:\n",
    "        data = response.json()\n",
    "        print('Success!')\n",
    "        # Optional: explore and transform the data if needed\n",
    "        df = pd.DataFrame([data])  # wrap in list to make DataFrame\n",
    "        return df\n",
    "    else:\n",
    "        print(f\"Error: {response.status_code}\")\n",
    "        return None\n",
    "\n",
    "# Example API URL (you may need a better endpoint for actual crypto prices)\n",
    "api_url = \"https://api.coingecko.com/api/v3/ping\"\n",
    "\n",
    "# Call the function and store result\n",
    "df = crypto_prices_df(api_url)\n",
    "\n",
    "# Print the DataFrame if it exists\n",
    "if df is not None:\n",
    "    print(df)\n"
   ]
  },
  {
   "cell_type": "code",
   "execution_count": 13,
   "id": "8e4c31f2-7a30-46a7-bfe4-cbb07183abaf",
   "metadata": {},
   "outputs": [
    {
     "name": "stdout",
     "output_type": "stream",
     "text": [
      "Success!\n",
      "                              ability                             berry  \\\n",
      "0  https://pokeapi.co/api/v2/ability/  https://pokeapi.co/api/v2/berry/   \n",
      "\n",
      "                              berry-firmness  \\\n",
      "0  https://pokeapi.co/api/v2/berry-firmness/   \n",
      "\n",
      "                              berry-flavor  \\\n",
      "0  https://pokeapi.co/api/v2/berry-flavor/   \n",
      "\n",
      "                              characteristic  \\\n",
      "0  https://pokeapi.co/api/v2/characteristic/   \n",
      "\n",
      "                              contest-effect  \\\n",
      "0  https://pokeapi.co/api/v2/contest-effect/   \n",
      "\n",
      "                              contest-type  \\\n",
      "0  https://pokeapi.co/api/v2/contest-type/   \n",
      "\n",
      "                              egg-group  \\\n",
      "0  https://pokeapi.co/api/v2/egg-group/   \n",
      "\n",
      "                              encounter-condition  \\\n",
      "0  https://pokeapi.co/api/v2/encounter-condition/   \n",
      "\n",
      "                           encounter-condition-value  ...  \\\n",
      "0  https://pokeapi.co/api/v2/encounter-condition-...  ...   \n",
      "\n",
      "                              pokemon-form  \\\n",
      "0  https://pokeapi.co/api/v2/pokemon-form/   \n",
      "\n",
      "                              pokemon-habitat  \\\n",
      "0  https://pokeapi.co/api/v2/pokemon-habitat/   \n",
      "\n",
      "                              pokemon-shape  \\\n",
      "0  https://pokeapi.co/api/v2/pokemon-shape/   \n",
      "\n",
      "                              pokemon-species  \\\n",
      "0  https://pokeapi.co/api/v2/pokemon-species/   \n",
      "\n",
      "                              region                             stat  \\\n",
      "0  https://pokeapi.co/api/v2/region/  https://pokeapi.co/api/v2/stat/   \n",
      "\n",
      "                              super-contest-effect  \\\n",
      "0  https://pokeapi.co/api/v2/super-contest-effect/   \n",
      "\n",
      "                              type                             version  \\\n",
      "0  https://pokeapi.co/api/v2/type/  https://pokeapi.co/api/v2/version/   \n",
      "\n",
      "                              version-group  \n",
      "0  https://pokeapi.co/api/v2/version-group/  \n",
      "\n",
      "[1 rows x 48 columns]\n"
     ]
    }
   ],
   "source": [
    "import requests\n",
    "import pandas as pd\n",
    "\n",
    "def get_crypto_prices(api_url):\n",
    "    # Send a GET request to the API\n",
    "    response = requests.get(api_url)\n",
    "    \n",
    "    # Check if the request was successful\n",
    "    if response.status_code == 200:\n",
    "        data = response.json()\n",
    "        print(\"Success!\")\n",
    "        # Convert the top-level keys of the JSON into a DataFrame\n",
    "        df = pd.DataFrame([data])  # wrap in list to make a DataFrame with one row\n",
    "        return df\n",
    "    else:\n",
    "        print(f\"Error: {response.status_code}\")\n",
    "        return None\n",
    "\n",
    "# Using the PokéAPI URL\n",
    "api_url = \"https://pokeapi.co/api/v2\"\n",
    "\n",
    "# Testing mechanism, do not modify!\n",
    "crypto_prices_df = get_crypto_prices(api_url)\n",
    "print(crypto_prices_df)\n"
   ]
  },
  {
   "cell_type": "markdown",
   "id": "b5c1bfe1-1116-4702-964f-d67feebc3358",
   "metadata": {},
   "source": [
    "✅ Example: Get current prices for top cryptocurrencies using CoinGecko\n",
    "\n",
    "Here’s how to do it:"
   ]
  },
  {
   "cell_type": "code",
   "execution_count": 14,
   "id": "a738765c-761d-4e24-a3c1-d9cad5b8c9f0",
   "metadata": {},
   "outputs": [
    {
     "name": "stdout",
     "output_type": "stream",
     "text": [
      "Success!\n",
      "            id symbol      name  current_price     market_cap\n",
      "0      bitcoin    btc   Bitcoin  105692.000000  2099799515126\n",
      "1     ethereum    eth  Ethereum    2551.390000   308022931873\n",
      "2       tether   usdt    Tether       1.000000   151604924745\n",
      "3       ripple    xrp       XRP       2.380000   139446547456\n",
      "4  binancecoin    bnb       BNB     649.840000    94791457821\n",
      "5       solana    sol    Solana     169.040000    87862137941\n",
      "6     usd-coin   usdc      USDC       0.999852    60615889852\n",
      "7     dogecoin   doge  Dogecoin       0.224894    33572064114\n",
      "8      cardano    ada   Cardano       0.740996    26724793748\n",
      "9         tron    trx      TRON       0.267751    25393271375\n"
     ]
    }
   ],
   "source": [
    "import requests\n",
    "import pandas as pd\n",
    "\n",
    "def get_crypto_prices(api_url):\n",
    "    response = requests.get(api_url)\n",
    "\n",
    "    if response.status_code == 200:\n",
    "        data = response.json()\n",
    "        print(\"Success!\")\n",
    "        # Convert the list of coin data to a DataFrame\n",
    "        df = pd.DataFrame(data)\n",
    "        return df\n",
    "    else:\n",
    "        print(f\"Error: {response.status_code}\")\n",
    "        return None\n",
    "\n",
    "# CoinGecko API to get the top 10 coins by market cap in USD\n",
    "api_url = \"https://api.coingecko.com/api/v3/coins/markets?vs_currency=usd&order=market_cap_desc&per_page=10&page=1\"\n",
    "\n",
    "# Testing mechanism\n",
    "crypto_prices_df = get_crypto_prices(api_url)\n",
    "print(crypto_prices_df[['id', 'symbol', 'name', 'current_price', 'market_cap']])\n"
   ]
  },
  {
   "cell_type": "markdown",
   "id": "0ce0ee3d-7a30-430d-884c-8c905feb891b",
   "metadata": {},
   "source": [
    "🔍 What This Does:\n",
    "\n",
    "❇️ Calls CoinGecko’s coins/markets endpoint.\n",
    "❇️ Gets data for the top 10 cryptocurrencies.\n",
    "❇️ Converts it to a pandas DataFrame.\n",
    "❇️ Prints selected columns like id, symbol, name, current_price, and market_cap."
   ]
  },
  {
   "cell_type": "code",
   "execution_count": 15,
   "id": "dc4017b2-9b4f-481f-90c3-beabc7aa3eb5",
   "metadata": {},
   "outputs": [
    {
     "name": "stdout",
     "output_type": "stream",
     "text": [
      "success!\n",
      "                                                data\n",
      "0  Many people fear catching a protozoan disease,...\n",
      "1  Cats can get tapeworms from eating mice. If yo...\n",
      "2  Of all the species of cats, the domestic cat i...\n",
      "3  Both humans and cats have identical regions in...\n",
      "4  Not every cat gets 'high' from catnip. Whether...\n",
      "5  Cats can be taught to walk on a leash, but a l...\n",
      "6     Jaguars are the only big cats that don't roar.\n",
      "7  Cats have individual preferences for scratchin...\n",
      "8  Almost 10% of a cat's bones are in its tail, a...\n",
      "9  Tabby cats are thought to get their name from ...\n"
     ]
    }
   ],
   "source": [
    "# Instructor Solution\n",
    "\n",
    "import pandas as pd\n",
    "import requests\n",
    "\n",
    "url = \"https://meowfacts.herokuapp.com/?count=10\"\n",
    "response = requests.get(url)\n",
    "\n",
    "# Check if the request was successful\n",
    "if response.status_code == 200:\n",
    "    data = response.json()\n",
    "    print('success!')\n",
    "else:\n",
    "    print(f\"Error: {response.status_code}\")\n",
    "\n",
    "df = pd.DataFrame(data)\n",
    "print(df)\n"
   ]
  },
  {
   "cell_type": "code",
   "execution_count": null,
   "id": "5494d45e-b55e-4dc6-b341-8d446b360f5f",
   "metadata": {},
   "outputs": [],
   "source": []
  }
 ],
 "metadata": {
  "kernelspec": {
   "display_name": "Python 3 (ipykernel)",
   "language": "python",
   "name": "python3"
  },
  "language_info": {
   "codemirror_mode": {
    "name": "ipython",
    "version": 3
   },
   "file_extension": ".py",
   "mimetype": "text/x-python",
   "name": "python",
   "nbconvert_exporter": "python",
   "pygments_lexer": "ipython3",
   "version": "3.13.1"
  }
 },
 "nbformat": 4,
 "nbformat_minor": 5
}
